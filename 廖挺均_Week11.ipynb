{
  "nbformat": 4,
  "nbformat_minor": 0,
  "metadata": {
    "colab": {
      "name": "廖挺均-Week11.ipynb",
      "provenance": [],
      "authorship_tag": "ABX9TyO/eVsl/FgY5LIHjMH/kZti",
      "include_colab_link": true
    },
    "kernelspec": {
      "name": "python3",
      "display_name": "Python 3"
    }
  },
  "cells": [
    {
      "cell_type": "markdown",
      "metadata": {
        "id": "view-in-github",
        "colab_type": "text"
      },
      "source": [
        "<a href=\"https://colab.research.google.com/github/TingGingLiao/Computer-Thinking/blob/master/%E5%BB%96%E6%8C%BA%E5%9D%87_Week11.ipynb\" target=\"_parent\"><img src=\"https://colab.research.google.com/assets/colab-badge.svg\" alt=\"Open In Colab\"/></a>"
      ]
    },
    {
      "cell_type": "markdown",
      "metadata": {
        "id": "KYFKziUTLTq0"
      },
      "source": [
        "習題解答:報告分組"
      ]
    },
    {
      "cell_type": "code",
      "metadata": {
        "colab": {
          "base_uri": "https://localhost:8080/"
        },
        "id": "36I_UspnLK9Y",
        "outputId": "6ea25bce-340d-4116-c4ab-df05f6c99da2"
      },
      "source": [
        "1# 方法(一):商數\n",
        "2 ##Input\n",
        "number= input(\"Enter your seat number?\")\n",
        "number= int(number)\n",
        "## Process\n",
        "group=(number-1)//5+1\n",
        "##Output\n",
        "print(\"Group is\",group)"
      ],
      "execution_count": 5,
      "outputs": [
        {
          "output_type": "stream",
          "text": [
            "Enter your seat number?19\n",
            "Group is 4\n"
          ],
          "name": "stdout"
        }
      ]
    }
  ]
}