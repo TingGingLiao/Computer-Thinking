{
  "nbformat": 4,
  "nbformat_minor": 0,
  "metadata": {
    "colab": {
      "name": "廖挺均-Week11.ipynb",
      "provenance": [],
      "collapsed_sections": [],
      "authorship_tag": "ABX9TyPHS0P1OPILQKSdjeKFO+AL",
      "include_colab_link": true
    },
    "kernelspec": {
      "name": "python3",
      "display_name": "Python 3"
    }
  },
  "cells": [
    {
      "cell_type": "markdown",
      "metadata": {
        "id": "view-in-github",
        "colab_type": "text"
      },
      "source": [
        "<a href=\"https://colab.research.google.com/github/TingGingLiao/Computer-Thinking/blob/master/%E5%BB%96%E6%8C%BA%E5%9D%87_Week11.ipynb\" target=\"_parent\"><img src=\"https://colab.research.google.com/assets/colab-badge.svg\" alt=\"Open In Colab\"/></a>"
      ]
    },
    {
      "cell_type": "markdown",
      "metadata": {
        "id": "KYFKziUTLTq0"
      },
      "source": [
        "習題解答:報告分組"
      ]
    },
    {
      "cell_type": "code",
      "metadata": {
        "colab": {
          "base_uri": "https://localhost:8080/"
        },
        "id": "36I_UspnLK9Y",
        "outputId": "6258f4fb-ced5-405a-f05d-f6fd4ac97e50"
      },
      "source": [
        "1# 方法(一):商數\n",
        "2 ##Input\n",
        "number= input(\"Enter your seat number?\")\n",
        "number= int(number)\n",
        "## Process\n",
        "group=(number-1)//5+1\n",
        "##Output\n",
        "print(\"Group is\",group)"
      ],
      "execution_count": 6,
      "outputs": [
        {
          "output_type": "stream",
          "text": [
            "Enter your seat number?19\n",
            "Group is 4\n"
          ],
          "name": "stdout"
        }
      ]
    },
    {
      "cell_type": "code",
      "metadata": {
        "colab": {
          "base_uri": "https://localhost:8080/"
        },
        "id": "H9HXD2NyNtI_",
        "outputId": "42c55fe9-70d6-4835-8b36-e9c4de1cf14c"
      },
      "source": [
        "print(\"你好，我叫麋鹿，是一個聊天機器人。\")\n",
        "hobby=\"我很喜歡看電影，也很喜歡養動物。今天很高興有機會來到世新大學，請多多指教。\"\n",
        "print(hobby)\n",
        "name=input(\"嗨!你好，你叫什麼名子?\")\n",
        "print(\"我叫\",name)\n",
        "print(\"我叫\",name,\"很高興認識你\")\n",
        "year=input(\"請問一下今年是西元2020年，那是民國幾年呢?\")\n",
        "print(\"對!應該沒錯，謝謝你!\")\n",
        "myage=int(input(\"再猜猜看我今年幾歲?\"))\n",
        "print(\"哇!你好聰明，我今年的確\",myage)\n",
        "nyears=100-myage\n",
        "print(\"我再\",nyears,\"年就滿100歲了。\")\n",
        "print(\"到時候就是西元\",int(year)+nyears+1911,\"年\")\n",
        "print(\"我喜歡吃巧克力，也喜歡挑戰製作各種巧克力的新食物。\")\n",
        "food=input(\"你呢。你最喜歡吃什麼?:\")\n",
        "print('我喜歡',food)\n",
        "question=\"你多久吃一次\"+food+\"?\"\n",
        "howoften=input(question)\n",
        "print(\"真有趣，不知道這樣對身體會不會很有負擔!\")\n",
        "animal=input(\"我最喜歡的動物是貓和柯基。你呢?\")\n",
        "print(\"我也喜歡\",animal)\n",
        "print(\"不知道\",animal,\"喜不喜歡吃\",food,\"?\")\n",
        "print(\"我也不知道，但是\",animal,\"吃到\",food,\"可能會導致牠死亡\")\n",
        "feeling=input(\"你今天情如何?:\")\n",
        "print(\"告訴我你現在\",feeling,\"的原因\")\n",
        "reason=input(\"為什麼:\")\n",
        "print(\"我知道了，謝謝分享。\")\n",
        "print(\"今天是事情真多!我想休息了，下次再聊吧!\")\n",
        "print(\"下次見\",name,\"跟你聊天很愉快呢!\")"
      ],
      "execution_count": 20,
      "outputs": [
        {
          "output_type": "stream",
          "text": [
            "你好，我叫麋鹿，是一個聊天機器人。\n",
            "我很喜歡看電影，也很喜歡養動物。今天很高興有機會來到世新大學，請多多指教。\n",
            "嗨!你好，你叫什麼名子?狐狸\n",
            "我叫 狐狸\n",
            "我叫 狐狸 很高興認識你\n",
            "請問一下今年是西元2020年，那是民國幾年呢?109\n",
            "對!應該沒錯，謝謝你!\n",
            "再猜猜看我今年幾歲?19\n",
            "哇!你好聰明，我今年的確 19\n",
            "我再 81 年就滿100歲了。\n",
            "到時候就是西元 2101 年\n",
            "我喜歡吃巧克力，也喜歡挑戰製作各種巧克力的新食物。\n",
            "你呢。你最喜歡吃什麼?:草莓\n",
            "我喜歡 草莓\n",
            "你多久吃一次草莓?兩個月三次\n",
            "真有趣，不知道這樣對身體會不會很有負擔!\n",
            "我最喜歡的動物是貓和柯基。你呢?羊駝\n",
            "我也喜歡 羊駝\n",
            "不知道 羊駝 喜不喜歡吃 草莓 ?\n",
            "我也不知道，但是 羊駝 吃到 草莓 可能會導致牠死亡\n",
            "你今天情如何?:悶\n",
            "告訴我你現在 悶 的原因\n",
            "為什麼:跟朋友吵架\n",
            "我知道了，謝謝分享。\n",
            "今天是事情真多!我想休息了，下次再聊吧!\n",
            "下次見 狐狸 跟你聊天很愉快呢!\n"
          ],
          "name": "stdout"
        }
      ]
    }
  ]
}