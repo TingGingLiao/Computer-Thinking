{
  "nbformat": 4,
  "nbformat_minor": 0,
  "metadata": {
    "colab": {
      "name": "「week8.ipynb」的副本",
      "provenance": [],
      "collapsed_sections": [],
      "authorship_tag": "ABX9TyMAzkOy+taAWO5ixpGzYf6t",
      "include_colab_link": true
    },
    "kernelspec": {
      "name": "python3",
      "display_name": "Python 3"
    }
  },
  "cells": [
    {
      "cell_type": "markdown",
      "metadata": {
        "id": "view-in-github",
        "colab_type": "text"
      },
      "source": [
        "<a href=\"https://colab.research.google.com/github/TingGingLiao/Computer-Thinking/blob/master/%E3%80%8Cweek8_ipynb%E3%80%8D%E7%9A%84%E5%89%AF%E6%9C%AC.ipynb\" target=\"_parent\"><img src=\"https://colab.research.google.com/assets/colab-badge.svg\" alt=\"Open In Colab\"/></a>"
      ]
    },
    {
      "cell_type": "code",
      "metadata": {
        "id": "onoYl_L9goQA",
        "outputId": "f0da53ce-50dc-4038-c2a4-bdba57c72572",
        "colab": {
          "base_uri": "https://localhost:8080/"
        }
      },
      "source": [
        "s=float(input(\"enter your number:\"))\n",
        "print(100+s)"
      ],
      "execution_count": null,
      "outputs": [
        {
          "output_type": "stream",
          "text": [
            "enter your number:24\n",
            "124.0\n"
          ],
          "name": "stdout"
        }
      ]
    },
    {
      "cell_type": "code",
      "metadata": {
        "id": "2L5KuA2FhQ53",
        "outputId": "adf744c9-9e5c-408e-e6e1-139d451f3b56",
        "colab": {
          "base_uri": "https://localhost:8080/"
        }
      },
      "source": [
        "S=eval(input(\"enter your number:\"))\n",
        "print(52+S)"
      ],
      "execution_count": null,
      "outputs": [
        {
          "output_type": "stream",
          "text": [
            "enter your number:52\n",
            "104\n"
          ],
          "name": "stdout"
        }
      ]
    },
    {
      "cell_type": "code",
      "metadata": {
        "id": "MMP0rgxNiCNx",
        "outputId": "4d8d6fa4-6fa8-46ee-d1ac-cf640842ab31",
        "colab": {
          "base_uri": "https://localhost:8080/"
        }
      },
      "source": [
        "S=int(input(\"enter your number:\"))\n",
        "print(1020+S)"
      ],
      "execution_count": null,
      "outputs": [
        {
          "output_type": "stream",
          "text": [
            "enter your number:80\n",
            "1100\n"
          ],
          "name": "stdout"
        }
      ]
    },
    {
      "cell_type": "code",
      "metadata": {
        "id": "BOogqcB8jAwi",
        "outputId": "490483f1-44cc-41d1-9fd1-c5eaf2574d96",
        "colab": {
          "base_uri": "https://localhost:8080/",
          "height": 284
        }
      },
      "source": [
        "a=input(\"input number a=\")\n",
        "b=input(\"input number b=\")\n",
        "print(a)\n",
        "print(b)\n",
        "print(a+b)\n",
        "print(a+1)"
      ],
      "execution_count": null,
      "outputs": [
        {
          "output_type": "stream",
          "text": [
            "input number a=5\n",
            "input number b=2\n",
            "5\n",
            "2\n",
            "52\n"
          ],
          "name": "stdout"
        },
        {
          "output_type": "error",
          "ename": "TypeError",
          "evalue": "ignored",
          "traceback": [
            "\u001b[0;31m---------------------------------------------------------------------------\u001b[0m",
            "\u001b[0;31mTypeError\u001b[0m                                 Traceback (most recent call last)",
            "\u001b[0;32m<ipython-input-18-bda137e25ebf>\u001b[0m in \u001b[0;36m<module>\u001b[0;34m()\u001b[0m\n\u001b[1;32m      4\u001b[0m \u001b[0mprint\u001b[0m\u001b[0;34m(\u001b[0m\u001b[0mb\u001b[0m\u001b[0;34m)\u001b[0m\u001b[0;34m\u001b[0m\u001b[0;34m\u001b[0m\u001b[0m\n\u001b[1;32m      5\u001b[0m \u001b[0mprint\u001b[0m\u001b[0;34m(\u001b[0m\u001b[0ma\u001b[0m\u001b[0;34m+\u001b[0m\u001b[0mb\u001b[0m\u001b[0;34m)\u001b[0m\u001b[0;34m\u001b[0m\u001b[0;34m\u001b[0m\u001b[0m\n\u001b[0;32m----> 6\u001b[0;31m \u001b[0mprint\u001b[0m\u001b[0;34m(\u001b[0m\u001b[0ma\u001b[0m\u001b[0;34m+\u001b[0m\u001b[0;36m1\u001b[0m\u001b[0;34m)\u001b[0m\u001b[0;34m\u001b[0m\u001b[0;34m\u001b[0m\u001b[0m\n\u001b[0m",
            "\u001b[0;31mTypeError\u001b[0m: must be str, not int"
          ]
        }
      ]
    },
    {
      "cell_type": "code",
      "metadata": {
        "id": "5F-h0EDdj3pY",
        "outputId": "1e80e362-0ea3-4f01-d13d-51155d001a3e",
        "colab": {
          "base_uri": "https://localhost:8080/"
        }
      },
      "source": [
        "print(\"my name\",\"是\",\"johnny\")\n",
        "print(\"my name\\n是johnny\")\n",
        "print(\"my name是\\\\johnny\")\n",
        "print(\"my name\\t是johnny\")\n",
        "print(\"a\",\"b\",\"c\",\"d\",end=\"\\n\")\n",
        "print(\"a\",\"b\",\"c\",\"d\",sep=\"|\",end=\"\\\\\")\n",
        "print(\"a\",\"b\",\"c\",\"d\",end=\"\\tEND++\")"
      ],
      "execution_count": null,
      "outputs": [
        {
          "output_type": "stream",
          "text": [
            "my name 是 johnny\n",
            "my name\n",
            "是johnny\n",
            "my name是\\johnny\n",
            "my name\t是johnny\n",
            "a b c d\n",
            "a|b|c|d\\a b c d\tEND++"
          ],
          "name": "stdout"
        }
      ]
    },
    {
      "cell_type": "code",
      "metadata": {
        "id": "y4I-o44TnDls",
        "outputId": "f269fb5b-03fd-42fb-df6b-e2d8acf32553",
        "colab": {
          "base_uri": "https://localhost:8080/"
        }
      },
      "source": [
        "print(\"my name\",\"is\",\"挺均廖\")\n",
        "name=\"廖挺均\"\n",
        "age=18+1\n",
        "print(f\"hi,my name is {name}and I am {age} years old\")\n",
        "print(\"hi,my name is\" ,name,\"and I am\" ,age,\"years old\")\n",
        "mood=\"tired\"\n",
        "print(f\"Today i am {mood}\")"
      ],
      "execution_count": null,
      "outputs": [
        {
          "output_type": "stream",
          "text": [
            "my name is 挺均廖\n",
            "hi,my name is 廖挺均and I am 19 years old\n",
            "hi,my name is 廖挺均 and I am 19 years old\n",
            "Today i am tired\n"
          ],
          "name": "stdout"
        }
      ]
    },
    {
      "cell_type": "code",
      "metadata": {
        "id": "LVfYBKfFpJfr",
        "outputId": "576b7f28-6ef8-412b-ee65-79833b9639b0",
        "colab": {
          "base_uri": "https://localhost:8080/"
        }
      },
      "source": [
        "x=float(input(\"請輸入上衣數量:\"))\n",
        "y=float(input(\"請輸入褲子數量:\"))\n",
        "z=float(input(\"請輸入背心數量:\"))\n",
        "\n",
        "total=300*x+350*y+400*z\n",
        "\n",
        "print(\"訂購服裝的總金額\",total)"
      ],
      "execution_count": 3,
      "outputs": [
        {
          "output_type": "stream",
          "text": [
            "請輸入上衣數量:6\n",
            "請輸入褲子數量:5\n",
            "請輸入背心數量:4\n",
            "訂購服裝的總金額 5150.0\n"
          ],
          "name": "stdout"
        }
      ]
    },
    {
      "cell_type": "code",
      "metadata": {
        "id": "ZNNL38hRsX5y",
        "outputId": "09fb96b8-6d46-40aa-817d-7557bdb8071e",
        "colab": {
          "base_uri": "https://localhost:8080/"
        }
      },
      "source": [
        "drink=input(\"購買飲料罐數\")\n",
        "print('請輸入購買飲料罐數?',drink)\n",
        "print(\"需花費\",200*2+20*6)"
      ],
      "execution_count": null,
      "outputs": [
        {
          "output_type": "stream",
          "text": [
            "購買飲料罐數30\n",
            "請輸入購買飲料罐數? 30\n",
            "需花費 520\n"
          ],
          "name": "stdout"
        }
      ]
    },
    {
      "cell_type": "code",
      "metadata": {
        "id": "O9MHGgPOmXS0",
        "outputId": "454246aa-3be4-4676-c112-45a51470ee4b",
        "colab": {
          "base_uri": "https://localhost:8080/"
        }
      },
      "source": [
        "s=float(input(\"請輸入第一次期中分數:\"))\n",
        "a=float(input(\"請輸入第二次期中分數:\"))\n",
        "b=float(input(\"請輸入期末分數:\"))\n",
        "print(\"總分為\",s+a+b)\n",
        "print(\"平均為\",(s+a+b)/3)"
      ],
      "execution_count": null,
      "outputs": [
        {
          "output_type": "stream",
          "text": [
            "請輸入第一次期中分數:75\n",
            "請輸入第二次期中分數:80\n",
            "請輸入期末分數:65\n",
            "總分為 220.0\n",
            "平均為 73.33333333333333\n"
          ],
          "name": "stdout"
        }
      ]
    }
  ]
}