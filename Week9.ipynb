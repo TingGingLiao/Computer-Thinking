{
  "nbformat": 4,
  "nbformat_minor": 0,
  "metadata": {
    "colab": {
      "name": "Untitled3.ipynb",
      "provenance": [],
      "collapsed_sections": [],
      "authorship_tag": "ABX9TyOvrPXsZcMuO6EUBLsOBGem",
      "include_colab_link": true
    },
    "kernelspec": {
      "name": "python3",
      "display_name": "Python 3"
    }
  },
  "cells": [
    {
      "cell_type": "markdown",
      "metadata": {
        "id": "view-in-github",
        "colab_type": "text"
      },
      "source": [
        "<a href=\"https://colab.research.google.com/github/TingGingLiao/Computer-Thinking/blob/master/Week9.ipynb\" target=\"_parent\"><img src=\"https://colab.research.google.com/assets/colab-badge.svg\" alt=\"Open In Colab\"/></a>"
      ]
    },
    {
      "cell_type": "code",
      "metadata": {
        "id": "hdbxkT5lzbgL",
        "outputId": "c3a495fc-88e8-4eb9-c6e8-6805b7a2ba8e",
        "colab": {
          "base_uri": "https://localhost:8080/"
        }
      },
      "source": [
        "import random\n",
        "a=int(input(\"請輸入座號:\"))\n",
        "b=a/5;\n",
        "if b<=1:\n",
        "    w=print(\"組別為1\")\n",
        "elif b<=2:\n",
        "    w=print(\"組別為2\")\n",
        "elif b<=3:\n",
        "    w=print(\"組別為3\")\n",
        "elif b<=4:\n",
        "    w=print(\"組別為4\")\n",
        "elif b<=5:\n",
        "    w=print(\"組別為5\")\n",
        "elif b<=6:\n",
        "    w=print(\"組別為6\")\n",
        "elif bz<=7:\n",
        "    w=print(\"組別為7\")\n",
        "elif b<=8:\n",
        "    w=print(\"組別為8\")\n",
        "elif b>8:\n",
        "    w=print(\"座號範圍為1-40，請重新輸入\")"
      ],
      "execution_count": 1,
      "outputs": [
        {
          "output_type": "stream",
          "text": [
            "請輸入座號:19\n",
            "組別為4\n"
          ],
          "name": "stdout"
        }
      ]
    }
  ]
}