{
  "nbformat": 4,
  "nbformat_minor": 0,
  "metadata": {
    "colab": {
      "name": "Week9.ipynb",
      "provenance": [],
      "collapsed_sections": [],
      "authorship_tag": "ABX9TyMOmDCFGlqdy/i/d0N5HjFp",
      "include_colab_link": true
    },
    "kernelspec": {
      "name": "python3",
      "display_name": "Python 3"
    }
  },
  "cells": [
    {
      "cell_type": "markdown",
      "metadata": {
        "id": "view-in-github",
        "colab_type": "text"
      },
      "source": [
        "<a href=\"https://colab.research.google.com/github/TingGingLiao/Computer-Thinking/blob/master/Week9.ipynb\" target=\"_parent\"><img src=\"https://colab.research.google.com/assets/colab-badge.svg\" alt=\"Open In Colab\"/></a>"
      ]
    },
    {
      "cell_type": "code",
      "metadata": {
        "id": "pprs5TmGKXW7",
        "outputId": "d2c67f50-5d2a-44ab-b484-d67aa269e3c0",
        "colab": {
          "base_uri": "https://localhost:8080/"
        }
      },
      "source": [
        "import random\n",
        "q=input(\"請輸入座號):\")\n",
        "\n",
        "if q=='1':\n",
        "    z=print(\"組別為1\")\n",
        "elif q=='2':\n",
        "    z=print(\"組別為1\")\n",
        "elif q=='3':\n",
        "    z=print(\"組別為1\")\n",
        "elif q=='4':\n",
        "    z=print(\"組別為1\")\n",
        "elif q=='5':\n",
        "    z=print(\"組別為1\")\n",
        "elif q=='6':\n",
        "    z=print(\"組別為2\")\n",
        "elif q=='7':\n",
        "    z=print(\"組別為2\")\n",
        "elif q=='8':\n",
        "    z=print(\"組別為2\")\n",
        "elif q=='9':\n",
        "    z=print(\"組別為2\")\n",
        "elif q=='10':\n",
        "    z=print(\"組別為2\")\n",
        "elif q=='11':\n",
        "    z=print(\"組別為3\")\n",
        "elif q=='12':\n",
        "    z=print(\"組別為3\")\n",
        "elif q=='13':\n",
        "    z=print(\"組別為3\")\n",
        "elif q=='14':\n",
        "    z=print(\"組別為3\")\n",
        "elif q=='15':\n",
        "    z=print(\"組別為3\")\n",
        "elif q=='16':\n",
        "    z=print(\"組別為4\")\n",
        "elif q=='17':\n",
        "    z=print(\"組別為4\")\n",
        "elif q=='18':\n",
        "    z=print(\"組別為4\")\n",
        "elif q=='19':\n",
        "    z=print(\"組別為4\")\n",
        "elif q=='20':\n",
        "    z=print(\"組別為4\")\n",
        "elif q=='21':\n",
        "    z=print(\"組別為5\")\n",
        "elif q=='22':\n",
        "    z=print(\"組別為5\")\n",
        "elif q=='23':\n",
        "    z=print(\"組別為5\")\n",
        "elif q=='24':\n",
        "    z=print(\"組別為5\")\n",
        "elif q=='25':\n",
        "    z=print(\"組別為5\")\n",
        "elif q=='26':\n",
        "    z=print(\"組別為6\")\n",
        "elif q=='27':\n",
        "    z=print(\"組別為6\")\n",
        "elif q=='28':\n",
        "    z=print(\"組別為6\")\n",
        "elif q=='29':\n",
        "    z=print(\"組別為6\")\n",
        "elif q=='30':\n",
        "    z=print(\"組別為6\")\n",
        "elif q=='31':\n",
        "    z=print(\"組別為7\")\n",
        "elif q=='32':\n",
        "    z=print(\"組別為7\")\n",
        "elif q=='33':\n",
        "    z=print(\"組別為7\")\n",
        "elif q=='34':\n",
        "    z=print(\"組別為7\")\n",
        "elif q=='35':\n",
        "    z=print(\"組別為7\")\n",
        "elif q=='36':\n",
        "    z=print(\"組別為8\")\n",
        "elif q=='37':\n",
        "    z=print(\"組別為8\")\n",
        "elif q=='38':\n",
        "    z=print(\"組別為8\")\n",
        "elif q=='39':\n",
        "    z=print(\"組別為8\")\n",
        "elif q=='40':\n",
        "    z=print(\"組別為8\")\n"
      ],
      "execution_count": 2,
      "outputs": [
        {
          "output_type": "stream",
          "text": [
            "請輸入座號):19\n",
            "組別為4\n"
          ],
          "name": "stdout"
        }
      ]
    }
  ]
}