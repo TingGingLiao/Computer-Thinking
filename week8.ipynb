{
  "nbformat": 4,
  "nbformat_minor": 0,
  "metadata": {
    "colab": {
      "name": "week8.ipynb",
      "provenance": [],
      "collapsed_sections": [],
      "authorship_tag": "ABX9TyOQaNQj2S+faBMJGWyFeSRA",
      "include_colab_link": true
    },
    "kernelspec": {
      "name": "python3",
      "display_name": "Python 3"
    }
  },
  "cells": [
    {
      "cell_type": "markdown",
      "metadata": {
        "id": "view-in-github",
        "colab_type": "text"
      },
      "source": [
        "<a href=\"https://colab.research.google.com/github/TingGingLiao/Computer-Thinking/blob/master/week8.ipynb\" target=\"_parent\"><img src=\"https://colab.research.google.com/assets/colab-badge.svg\" alt=\"Open In Colab\"/></a>"
      ]
    },
    {
      "cell_type": "code",
      "metadata": {
        "id": "onoYl_L9goQA",
        "outputId": "f0da53ce-50dc-4038-c2a4-bdba57c72572",
        "colab": {
          "base_uri": "https://localhost:8080/"
        }
      },
      "source": [
        "s=float(input(\"enter your number:\"))\n",
        "print(100+s)"
      ],
      "execution_count": 4,
      "outputs": [
        {
          "output_type": "stream",
          "text": [
            "enter your number:24\n",
            "124.0\n"
          ],
          "name": "stdout"
        }
      ]
    },
    {
      "cell_type": "code",
      "metadata": {
        "id": "2L5KuA2FhQ53",
        "outputId": "adf744c9-9e5c-408e-e6e1-139d451f3b56",
        "colab": {
          "base_uri": "https://localhost:8080/"
        }
      },
      "source": [
        "S=eval(input(\"enter your number:\"))\n",
        "print(52+S)"
      ],
      "execution_count": 9,
      "outputs": [
        {
          "output_type": "stream",
          "text": [
            "enter your number:52\n",
            "104\n"
          ],
          "name": "stdout"
        }
      ]
    },
    {
      "cell_type": "code",
      "metadata": {
        "id": "MMP0rgxNiCNx",
        "outputId": "4d8d6fa4-6fa8-46ee-d1ac-cf640842ab31",
        "colab": {
          "base_uri": "https://localhost:8080/"
        }
      },
      "source": [
        "S=int(input(\"enter your number:\"))\n",
        "print(1020+S)"
      ],
      "execution_count": 13,
      "outputs": [
        {
          "output_type": "stream",
          "text": [
            "enter your number:80\n",
            "1100\n"
          ],
          "name": "stdout"
        }
      ]
    },
    {
      "cell_type": "code",
      "metadata": {
        "id": "BOogqcB8jAwi",
        "outputId": "490483f1-44cc-41d1-9fd1-c5eaf2574d96",
        "colab": {
          "base_uri": "https://localhost:8080/",
          "height": 284
        }
      },
      "source": [
        "a=input(\"input number a=\")\n",
        "b=input(\"input number b=\")\n",
        "print(a)\n",
        "print(b)\n",
        "print(a+b)\n",
        "print(a+1)"
      ],
      "execution_count": 18,
      "outputs": [
        {
          "output_type": "stream",
          "text": [
            "input number a=5\n",
            "input number b=2\n",
            "5\n",
            "2\n",
            "52\n"
          ],
          "name": "stdout"
        },
        {
          "output_type": "error",
          "ename": "TypeError",
          "evalue": "ignored",
          "traceback": [
            "\u001b[0;31m---------------------------------------------------------------------------\u001b[0m",
            "\u001b[0;31mTypeError\u001b[0m                                 Traceback (most recent call last)",
            "\u001b[0;32m<ipython-input-18-bda137e25ebf>\u001b[0m in \u001b[0;36m<module>\u001b[0;34m()\u001b[0m\n\u001b[1;32m      4\u001b[0m \u001b[0mprint\u001b[0m\u001b[0;34m(\u001b[0m\u001b[0mb\u001b[0m\u001b[0;34m)\u001b[0m\u001b[0;34m\u001b[0m\u001b[0;34m\u001b[0m\u001b[0m\n\u001b[1;32m      5\u001b[0m \u001b[0mprint\u001b[0m\u001b[0;34m(\u001b[0m\u001b[0ma\u001b[0m\u001b[0;34m+\u001b[0m\u001b[0mb\u001b[0m\u001b[0;34m)\u001b[0m\u001b[0;34m\u001b[0m\u001b[0;34m\u001b[0m\u001b[0m\n\u001b[0;32m----> 6\u001b[0;31m \u001b[0mprint\u001b[0m\u001b[0;34m(\u001b[0m\u001b[0ma\u001b[0m\u001b[0;34m+\u001b[0m\u001b[0;36m1\u001b[0m\u001b[0;34m)\u001b[0m\u001b[0;34m\u001b[0m\u001b[0;34m\u001b[0m\u001b[0m\n\u001b[0m",
            "\u001b[0;31mTypeError\u001b[0m: must be str, not int"
          ]
        }
      ]
    },
    {
      "cell_type": "code",
      "metadata": {
        "id": "5F-h0EDdj3pY",
        "outputId": "1e80e362-0ea3-4f01-d13d-51155d001a3e",
        "colab": {
          "base_uri": "https://localhost:8080/"
        }
      },
      "source": [
        "print(\"my name\",\"是\",\"johnny\")\n",
        "print(\"my name\\n是johnny\")\n",
        "print(\"my name是\\\\johnny\")\n",
        "print(\"my name\\t是johnny\")\n",
        "print(\"a\",\"b\",\"c\",\"d\",end=\"\\n\")\n",
        "print(\"a\",\"b\",\"c\",\"d\",sep=\"|\",end=\"\\\\\")\n",
        "print(\"a\",\"b\",\"c\",\"d\",end=\"\\tEND++\")"
      ],
      "execution_count": 30,
      "outputs": [
        {
          "output_type": "stream",
          "text": [
            "my name 是 johnny\n",
            "my name\n",
            "是johnny\n",
            "my name是\\johnny\n",
            "my name\t是johnny\n",
            "a b c d\n",
            "a|b|c|d\\a b c d\tEND++"
          ],
          "name": "stdout"
        }
      ]
    },
    {
      "cell_type": "code",
      "metadata": {
        "id": "y4I-o44TnDls",
        "outputId": "f269fb5b-03fd-42fb-df6b-e2d8acf32553",
        "colab": {
          "base_uri": "https://localhost:8080/"
        }
      },
      "source": [
        "print(\"my name\",\"is\",\"挺均廖\")\n",
        "name=\"廖挺均\"\n",
        "age=18+1\n",
        "print(f\"hi,my name is {name}and I am {age} years old\")\n",
        "print(\"hi,my name is\" ,name,\"and I am\" ,age,\"years old\")\n",
        "mood=\"tired\"\n",
        "print(f\"Today i am {mood}\")"
      ],
      "execution_count": 37,
      "outputs": [
        {
          "output_type": "stream",
          "text": [
            "my name is 挺均廖\n",
            "hi,my name is 廖挺均and I am 19 years old\n",
            "hi,my name is 廖挺均 and I am 19 years old\n",
            "Today i am tired\n"
          ],
          "name": "stdout"
        }
      ]
    },
    {
      "cell_type": "code",
      "metadata": {
        "id": "LVfYBKfFpJfr",
        "outputId": "c9938c1b-5032-4b7f-80e7-a8450354fcf3",
        "colab": {
          "base_uri": "https://localhost:8080/"
        }
      },
      "source": [
        "close=float(input(\"close cost:\"))\n",
        "pants=float(input(\"pants cost:\"))\n",
        "vest=float(input(\"vest cost:\"))\n",
        "print(3*close+4*pants+2*vest)"
      ],
      "execution_count": 43,
      "outputs": [
        {
          "output_type": "stream",
          "text": [
            "close cost:300\n",
            "pants cost:350\n",
            "vest cost:400\n",
            "3100.0\n"
          ],
          "name": "stdout"
        }
      ]
    },
    {
      "cell_type": "code",
      "metadata": {
        "id": "ZNNL38hRsX5y",
        "outputId": "65bc13cd-203d-41cf-d919-9bbd587aa5d2",
        "colab": {
          "base_uri": "https://localhost:8080/"
        }
      },
      "source": [
        "drink=input(\"購買飲料罐數\")\n",
        "print('請輸入購買飲料罐數?',drink)\n",
        "print(200*2+20*6)"
      ],
      "execution_count": 51,
      "outputs": [
        {
          "output_type": "stream",
          "text": [
            "購買飲料罐數30\n",
            "請輸入購買飲料罐數? 30\n",
            "520\n"
          ],
          "name": "stdout"
        }
      ]
    }
  ]
}